{
 "cells": [
  {
   "cell_type": "markdown",
   "metadata": {},
   "source": [
    "# Unsupervised Machine Learning with Clustering\n",
    "Michaela Webster - mawebster9"
   ]
  },
  {
   "cell_type": "markdown",
   "metadata": {},
   "source": [
    "_This notebook is an introductory guide to machine learning and walks you through the Machine Learning process with a sample dataset. You can use your own dataset with some minor adjustments to the code. This notebook provides guidance on how to implement both text and boolean based solutions to machine learning._\n",
    "\n",
    "_This guide only touches on a few machine learning techniques and should not be used as your one-stop-shop for all machine learning problems._"
   ]
  },
  {
   "cell_type": "code",
   "execution_count": 38,
   "metadata": {},
   "outputs": [],
   "source": [
    "# our data structure\n",
    "import pandas as pd\n",
    "\n",
    "# bag of words vectorizer - take inverse frequency of words to assign weights\n",
    "from sklearn.feature_extraction.text import TfidfVectorizer\n",
    "\n",
    "# split data into training/test data, validate our models, and specify number of folds for training/test data\n",
    "from sklearn.model_selection import train_test_split, cross_val_score, StratifiedKFold \n",
    "\n",
    "# our 3 classification models\n",
    "from sklearn.cluster import KMeans\n",
    "from sklearn.svm import SVC, LinearSVC, SVR\n",
    "\n",
    "# our accuracy metrics\n",
    "from sklearn.metrics import accuracy_score, completeness_score, adjusted_mutual_info_score, adjusted_rand_score, v_measure_score\n",
    "from sklearn.metrics import fowlkes_mallows_score, homogeneity_score, mutual_info_score, normalized_mutual_info_score"
   ]
  },
  {
   "cell_type": "markdown",
   "metadata": {},
   "source": [
    "## 1. Import Data and Set X & y\n"
   ]
  },
  {
   "cell_type": "markdown",
   "metadata": {},
   "source": [
    "For this example, we will focus solely on the typeNumber field. The typeNumber field is a numerical representation of our animal type. Our goal is to see if the typeNumber field can be used to determine the type of animal with high accuracy. For this, our X is all of the boolean fields and its associated label, or y, is the typeNumber field."
   ]
  },
  {
   "cell_type": "code",
   "execution_count": 17,
   "metadata": {},
   "outputs": [],
   "source": [
    "#connect to CSV file that contains our data - our data was adapted from https://github.com/selva86/datasets/Zoo.csv\n",
    "path_to_file = \"https://raw.githubusercontent.com/mawebster9/MachineLearningMadeEasy/master/Zoo.csv\"\n",
    "\n",
    "#open, read, and store our data into a pandas dataframe\n",
    "df = pd.read_csv(path_to_file, encoding='latin-1')"
   ]
  },
  {
   "cell_type": "code",
   "execution_count": 18,
   "metadata": {},
   "outputs": [],
   "source": [
    "#assign our attributes to X and y\n",
    "#X_1 is a placeholder for now before we tranform our data into the format our ML algorithms can understand\n",
    "X_1 = df.select_dtypes('bool')\n",
    "y = df['typeNumber']"
   ]
  },
  {
   "cell_type": "code",
   "execution_count": 19,
   "metadata": {},
   "outputs": [
    {
     "data": {
      "text/plain": [
       "type         True\n",
       "feathers    False\n",
       "eggs        False\n",
       "milk         True\n",
       "airborne    False\n",
       "aquatic     False\n",
       "predator     True\n",
       "toothed      True\n",
       "backbone     True\n",
       "breathes     True\n",
       "venomous    False\n",
       "fins        False\n",
       "tail        False\n",
       "domestic    False\n",
       "catsize      True\n",
       "Name: 0, dtype: bool"
      ]
     },
     "execution_count": 19,
     "metadata": {},
     "output_type": "execute_result"
    }
   ],
   "source": [
    "#print the first record in X to verify the previous step\n",
    "X_1.iloc[0]"
   ]
  },
  {
   "cell_type": "code",
   "execution_count": 20,
   "metadata": {},
   "outputs": [
    {
     "data": {
      "text/plain": [
       "2"
      ]
     },
     "execution_count": 20,
     "metadata": {},
     "output_type": "execute_result"
    }
   ],
   "source": [
    "#print the first record in y to verify the previous step\n",
    "y.iloc[0]"
   ]
  },
  {
   "cell_type": "markdown",
   "metadata": {},
   "source": [
    "## 3. Set-up X: Fix Boolean Values"
   ]
  },
  {
   "cell_type": "markdown",
   "metadata": {},
   "source": [
    "We have our X values set up in a way that a machine learning algorithm can understand it, but now we need to fix our y values. In order to do this we need to change our true/false values into a numeric format. To do this, we need to change all true values to 1.0 and all false values to 0.0."
   ]
  },
  {
   "cell_type": "code",
   "execution_count": 23,
   "metadata": {},
   "outputs": [],
   "source": [
    "#replace all instances: True = 1.0, False = 0.0 and store into X (transform X_1 and store results in X)\n",
    "X_1.columns.tolist()\n",
    "for i in (X_1.columns.tolist()):\n",
    "    X[i] = X_1[i].replace(True,1)"
   ]
  },
  {
   "cell_type": "code",
   "execution_count": 24,
   "metadata": {},
   "outputs": [
    {
     "data": {
      "text/plain": [
       "type        1.0\n",
       "feathers    0.0\n",
       "eggs        0.0\n",
       "milk        1.0\n",
       "airborne    0.0\n",
       "aquatic     0.0\n",
       "predator    1.0\n",
       "toothed     1.0\n",
       "backbone    1.0\n",
       "breathes    1.0\n",
       "venomous    0.0\n",
       "fins        0.0\n",
       "tail        0.0\n",
       "domestic    0.0\n",
       "catsize     1.0\n",
       "Name: 0, dtype: float64"
      ]
     },
     "execution_count": 24,
     "metadata": {},
     "output_type": "execute_result"
    }
   ],
   "source": [
    "#print out counts for all y records - ensure that our replace statement worked\n",
    "X.iloc[0]"
   ]
  },
  {
   "cell_type": "markdown",
   "metadata": {},
   "source": [
    "### Final Data Check"
   ]
  },
  {
   "cell_type": "markdown",
   "metadata": {},
   "source": [
    "Now that our X and y are in the right format, we need to ensure one last time that the dimensions of each dataframe are correct. For our X, we see that there are 500 rows and 2,117 columns (different words in BOW). For our y, we see that there are 500 rows and no columns.\n",
    "\n",
    "Our data has passed the check and is ready to be used."
   ]
  },
  {
   "cell_type": "code",
   "execution_count": 25,
   "metadata": {},
   "outputs": [
    {
     "data": {
      "text/plain": [
       "(101, 15)"
      ]
     },
     "execution_count": 25,
     "metadata": {},
     "output_type": "execute_result"
    }
   ],
   "source": [
    "X.shape"
   ]
  },
  {
   "cell_type": "code",
   "execution_count": 26,
   "metadata": {},
   "outputs": [
    {
     "data": {
      "text/plain": [
       "(101,)"
      ]
     },
     "execution_count": 26,
     "metadata": {},
     "output_type": "execute_result"
    }
   ],
   "source": [
    "y.shape"
   ]
  },
  {
   "cell_type": "markdown",
   "metadata": {},
   "source": [
    "## 4. Machine Learning Step-by-Step"
   ]
  },
  {
   "cell_type": "markdown",
   "metadata": {},
   "source": [
    "#### A. Run train_test_split() on X & y"
   ]
  },
  {
   "cell_type": "markdown",
   "metadata": {},
   "source": [
    "This step is not needed for this notebook but it shows you how the train_test_split function works. Our X and y are randomly split up into training and testing groups. In this case, our test group will be comprised of 33% of the X data(test_size), and will be the same each time we run this line (random_state)."
   ]
  },
  {
   "cell_type": "code",
   "execution_count": 27,
   "metadata": {},
   "outputs": [],
   "source": [
    "#break 33% of X and y into X_test and y_test, break other remaining 67% into X_train and y_train\n",
    "X_train, X_test, y_train, y_test = train_test_split(X, y, test_size=0.33, random_state=42)"
   ]
  },
  {
   "cell_type": "code",
   "execution_count": 28,
   "metadata": {},
   "outputs": [
    {
     "data": {
      "text/plain": [
       "(67, 15)"
      ]
     },
     "execution_count": 28,
     "metadata": {},
     "output_type": "execute_result"
    }
   ],
   "source": [
    "#print size of training data (335/500 = .67)\n",
    "X_train.shape"
   ]
  },
  {
   "cell_type": "code",
   "execution_count": 29,
   "metadata": {
    "scrolled": true
   },
   "outputs": [
    {
     "data": {
      "text/plain": [
       "(34, 15)"
      ]
     },
     "execution_count": 29,
     "metadata": {},
     "output_type": "execute_result"
    }
   ],
   "source": [
    "#print size of test data (165/500 = .33)\n",
    "X_test.shape"
   ]
  },
  {
   "cell_type": "markdown",
   "metadata": {},
   "source": [
    "#### B. Run fit() on X_train & y_train"
   ]
  },
  {
   "cell_type": "markdown",
   "metadata": {},
   "source": [
    "The next step in our machine learning model is taking our training data and feeding it into an algorithm to build a model. This is essentially the step that teaches an algorithm that for each record X = y. To do this, there are a number of classification models. For this example we will focus on the KMeans classifier."
   ]
  },
  {
   "cell_type": "code",
   "execution_count": 30,
   "metadata": {},
   "outputs": [],
   "source": [
    "#specify which classifier to use and set parameters\n",
    "clf = KMeans(random_state=0).fit(X)"
   ]
  },
  {
   "cell_type": "code",
   "execution_count": 31,
   "metadata": {},
   "outputs": [],
   "source": [
    "#send X and y into our classifier to build a model\n",
    "k_means = clf.fit(X_train, y_train)"
   ]
  },
  {
   "cell_type": "code",
   "execution_count": 32,
   "metadata": {},
   "outputs": [
    {
     "name": "stdout",
     "output_type": "stream",
     "text": [
      "KMeans(algorithm='auto', copy_x=True, init='k-means++', max_iter=300,\n",
      "       n_clusters=8, n_init=10, n_jobs=None, precompute_distances='auto',\n",
      "       random_state=0, tol=0.0001, verbose=0)\n"
     ]
    }
   ],
   "source": [
    "#print out all information about our model\n",
    "print(k_means)"
   ]
  },
  {
   "cell_type": "markdown",
   "metadata": {},
   "source": [
    "#### C. Run predict() on X_test"
   ]
  },
  {
   "cell_type": "markdown",
   "metadata": {},
   "source": [
    "The next step in our model is to take the model we just made using the training data and feeding the test data into it. This will output an array of values that the algorithm has determined to be the typeNumber status."
   ]
  },
  {
   "cell_type": "code",
   "execution_count": 33,
   "metadata": {},
   "outputs": [],
   "source": [
    "#send our test data into the model we just created\n",
    "y_pred = k_means.predict(X_test)"
   ]
  },
  {
   "cell_type": "code",
   "execution_count": 34,
   "metadata": {},
   "outputs": [
    {
     "name": "stdout",
     "output_type": "stream",
     "text": [
      "Here is the model's predictions: \n",
      "[2 2 3 3 3 7 2 3 3 3 5 7 7 1 4 3 2 1 5 2 0 0 0 7 2 4 7 0 2 2 1 0 3 2]\n"
     ]
    }
   ],
   "source": [
    "#print our results for the predictions\n",
    "print(\"Here is the model's predictions: \")\n",
    "print(y_pred)"
   ]
  },
  {
   "cell_type": "code",
   "execution_count": 35,
   "metadata": {},
   "outputs": [
    {
     "name": "stdout",
     "output_type": "stream",
     "text": [
      "[1 2 3 4 2 1 7 5 5 1 5 2 3 2 0 0 3 4 7 3 2 5 5 1 2 2 2 7 6 1 3 3 3 4 3 5 3\n",
      " 0 1 6 3 6 1 3 2 6 1 3 4 1 3 2 0 1 5 6 6 7 3 5 5 1 5 6 4 5 7]\n",
      "84    2\n",
      "55    2\n",
      "66    2\n",
      "67    2\n",
      "45    2\n",
      "39    6\n",
      "22    2\n",
      "44    2\n",
      "10    2\n",
      "0     2\n",
      "18    3\n",
      "30    6\n",
      "97    6\n",
      "33    4\n",
      "77    5\n",
      "4     2\n",
      "93    2\n",
      "78    4\n",
      "12    3\n",
      "31    2\n",
      "76    7\n",
      "89    1\n",
      "26    1\n",
      "42    6\n",
      "70    2\n",
      "15    5\n",
      "40    6\n",
      "72    5\n",
      "9     2\n",
      "96    2\n",
      "11    4\n",
      "91    7\n",
      "64    2\n",
      "28    2\n",
      "Name: typeNumber, dtype: int64\n"
     ]
    }
   ],
   "source": [
    "print(k_means.labels_)\n",
    "print(y_test)"
   ]
  },
  {
   "cell_type": "markdown",
   "metadata": {},
   "source": [
    "#### D. Verify Accuracy of Model"
   ]
  },
  {
   "cell_type": "markdown",
   "metadata": {},
   "source": [
    "Now that we have split our data into training and testing groups, created a model using a machine learning algorithm, and used the model to predict outcomes for our test data, it is time to verify how well our model did compared to the actual outcomes. To do this, there are a number of accuracy metrics. For this example we will focus on the accuracy score."
   ]
  },
  {
   "cell_type": "code",
   "execution_count": 36,
   "metadata": {},
   "outputs": [
    {
     "name": "stdout",
     "output_type": "stream",
     "text": [
      "Accuracy score for KMeans classifier:   26.47058823529412 %\n"
     ]
    }
   ],
   "source": [
    "#compare y_test values with the predicted y values\n",
    "score = accuracy_score(y_test, y_pred).mean()\n",
    "print(\"Accuracy score for KMeans classifier:  \", score*100,\"%\")"
   ]
  },
  {
   "cell_type": "markdown",
   "metadata": {},
   "source": [
    "***Here we can see that our KMeans model was correct 26.47% of the time when predicting the typeNumber status.***"
   ]
  },
  {
   "cell_type": "markdown",
   "metadata": {},
   "source": [
    "## Test for Best Classifier to Use"
   ]
  },
  {
   "cell_type": "markdown",
   "metadata": {},
   "source": [
    "Now that we understand how machine learning is done, we can determine which model is the best choice for our data. In this example we will use  different classifiers and evaluate each against 9 accuracy metrics.\n",
    "\n",
    "Note: the cross_val_score() function handles test_train_split(X,y,test_size=33,random_state-42), fit(X_train,y_train), predict(X_test), and also any of the accuracy score metrics. This function is essentially and all-in-one function.\n",
    "\n",
    "__Ignore the warning - there will be a default change when the next update is pushed__"
   ]
  },
  {
   "cell_type": "code",
   "execution_count": 39,
   "metadata": {},
   "outputs": [
    {
     "name": "stdout",
     "output_type": "stream",
     "text": [
      "-----------------------------------------------------------------------------------------------------------\n",
      "Classifier:  SVC(C=1.0, cache_size=200, class_weight=None, coef0=0.0,\n",
      "    decision_function_shape='ovr', degree=3, gamma='auto', kernel='rbf',\n",
      "    max_iter=-1, probability=False, random_state=None, shrinking=True,\n",
      "    tol=0.001, verbose=False)\n",
      "\n",
      "Scoring Metrics: \n",
      "\t* accuracy score:  0.8712948242360007\n",
      "\t* completeness_score score:  0.9418178347175505\n",
      "\t* adjusted_mutual_info_score score:  0.76144398216278\n",
      "\t* adjusted_rand_score score:  0.8886509558840245\n",
      "\t* fowlkes_mallows_score score:  0.9164954557636752\n",
      "\t* homogeneity_score score:  0.8153033147609291\n",
      "\t* mutual_info_score score:  1.3432862063118838\n",
      "\t* normalized_mutual_info_score score:  0.8762737018254722\n",
      "\t* v_measure_score score:  0.8739928525235382\n",
      "-----------------------------------------------------------------------------------------------------------\n",
      "Classifier:  LinearSVC(C=1.0, class_weight=None, dual=True, fit_intercept=True,\n",
      "          intercept_scaling=1, loss='squared_hinge', max_iter=1000,\n",
      "          multi_class='ovr', penalty='l2', random_state=None, tol=0.0001,\n",
      "          verbose=0)\n",
      "\n",
      "Scoring Metrics: \n",
      "\t* accuracy score:  0.9303479950538774\n",
      "\t* completeness_score score:  0.9477296383838145\n",
      "\t* adjusted_mutual_info_score score:  0.8829479040124607\n",
      "\t* adjusted_rand_score score:  0.9470206408034857\n",
      "\t* fowlkes_mallows_score score:  0.9590274851718167\n",
      "\t* homogeneity_score score:  0.9155608641525359\n"
     ]
    },
    {
     "name": "stderr",
     "output_type": "stream",
     "text": [
      "c:\\users\\mwebster\\appdata\\local\\programs\\python\\python37-32\\lib\\site-packages\\sklearn\\metrics\\cluster\\supervised.py:746: FutureWarning: The behavior of AMI will change in version 0.22. To match the behavior of 'v_measure_score', AMI will use average_method='arithmetic' by default.\n",
      "  FutureWarning)\n",
      "c:\\users\\mwebster\\appdata\\local\\programs\\python\\python37-32\\lib\\site-packages\\sklearn\\metrics\\cluster\\supervised.py:746: FutureWarning: The behavior of AMI will change in version 0.22. To match the behavior of 'v_measure_score', AMI will use average_method='arithmetic' by default.\n",
      "  FutureWarning)\n",
      "c:\\users\\mwebster\\appdata\\local\\programs\\python\\python37-32\\lib\\site-packages\\sklearn\\metrics\\cluster\\supervised.py:746: FutureWarning: The behavior of AMI will change in version 0.22. To match the behavior of 'v_measure_score', AMI will use average_method='arithmetic' by default.\n",
      "  FutureWarning)\n",
      "c:\\users\\mwebster\\appdata\\local\\programs\\python\\python37-32\\lib\\site-packages\\sklearn\\metrics\\cluster\\supervised.py:859: FutureWarning: The behavior of NMI will change in version 0.22. To match the behavior of 'v_measure_score', NMI will use average_method='arithmetic' by default.\n",
      "  FutureWarning)\n",
      "c:\\users\\mwebster\\appdata\\local\\programs\\python\\python37-32\\lib\\site-packages\\sklearn\\metrics\\cluster\\supervised.py:859: FutureWarning: The behavior of NMI will change in version 0.22. To match the behavior of 'v_measure_score', NMI will use average_method='arithmetic' by default.\n",
      "  FutureWarning)\n",
      "c:\\users\\mwebster\\appdata\\local\\programs\\python\\python37-32\\lib\\site-packages\\sklearn\\metrics\\cluster\\supervised.py:859: FutureWarning: The behavior of NMI will change in version 0.22. To match the behavior of 'v_measure_score', NMI will use average_method='arithmetic' by default.\n",
      "  FutureWarning)\n",
      "c:\\users\\mwebster\\appdata\\local\\programs\\python\\python37-32\\lib\\site-packages\\sklearn\\metrics\\cluster\\supervised.py:746: FutureWarning: The behavior of AMI will change in version 0.22. To match the behavior of 'v_measure_score', AMI will use average_method='arithmetic' by default.\n",
      "  FutureWarning)\n",
      "c:\\users\\mwebster\\appdata\\local\\programs\\python\\python37-32\\lib\\site-packages\\sklearn\\metrics\\cluster\\supervised.py:746: FutureWarning: The behavior of AMI will change in version 0.22. To match the behavior of 'v_measure_score', AMI will use average_method='arithmetic' by default.\n",
      "  FutureWarning)\n",
      "c:\\users\\mwebster\\appdata\\local\\programs\\python\\python37-32\\lib\\site-packages\\sklearn\\metrics\\cluster\\supervised.py:746: FutureWarning: The behavior of AMI will change in version 0.22. To match the behavior of 'v_measure_score', AMI will use average_method='arithmetic' by default.\n",
      "  FutureWarning)\n"
     ]
    },
    {
     "name": "stdout",
     "output_type": "stream",
     "text": [
      "\t* mutual_info_score score:  1.508640959392465\n",
      "\t* normalized_mutual_info_score score:  0.931478552913411\n",
      "\t* v_measure_score score:  0.9313119044957495\n",
      "-----------------------------------------------------------------------------------------------------------\n",
      "Classifier:  KMeans(algorithm='auto', copy_x=True, init='k-means++', max_iter=300,\n",
      "       n_clusters=8, n_init=10, n_jobs=None, precompute_distances='auto',\n",
      "       random_state=0, tol=0.0001, verbose=0)\n",
      "\n",
      "Scoring Metrics: \n",
      "\t* accuracy score:  0.21875993640699523\n",
      "\t* completeness_score score:  0.7766847898129409\n"
     ]
    },
    {
     "name": "stderr",
     "output_type": "stream",
     "text": [
      "c:\\users\\mwebster\\appdata\\local\\programs\\python\\python37-32\\lib\\site-packages\\sklearn\\metrics\\cluster\\supervised.py:859: FutureWarning: The behavior of NMI will change in version 0.22. To match the behavior of 'v_measure_score', NMI will use average_method='arithmetic' by default.\n",
      "  FutureWarning)\n",
      "c:\\users\\mwebster\\appdata\\local\\programs\\python\\python37-32\\lib\\site-packages\\sklearn\\metrics\\cluster\\supervised.py:859: FutureWarning: The behavior of NMI will change in version 0.22. To match the behavior of 'v_measure_score', NMI will use average_method='arithmetic' by default.\n",
      "  FutureWarning)\n",
      "c:\\users\\mwebster\\appdata\\local\\programs\\python\\python37-32\\lib\\site-packages\\sklearn\\metrics\\cluster\\supervised.py:859: FutureWarning: The behavior of NMI will change in version 0.22. To match the behavior of 'v_measure_score', NMI will use average_method='arithmetic' by default.\n",
      "  FutureWarning)\n",
      "c:\\users\\mwebster\\appdata\\local\\programs\\python\\python37-32\\lib\\site-packages\\sklearn\\metrics\\cluster\\supervised.py:746: FutureWarning: The behavior of AMI will change in version 0.22. To match the behavior of 'v_measure_score', AMI will use average_method='arithmetic' by default.\n",
      "  FutureWarning)\n",
      "c:\\users\\mwebster\\appdata\\local\\programs\\python\\python37-32\\lib\\site-packages\\sklearn\\metrics\\cluster\\supervised.py:746: FutureWarning: The behavior of AMI will change in version 0.22. To match the behavior of 'v_measure_score', AMI will use average_method='arithmetic' by default.\n",
      "  FutureWarning)\n",
      "c:\\users\\mwebster\\appdata\\local\\programs\\python\\python37-32\\lib\\site-packages\\sklearn\\metrics\\cluster\\supervised.py:746: FutureWarning: The behavior of AMI will change in version 0.22. To match the behavior of 'v_measure_score', AMI will use average_method='arithmetic' by default.\n",
      "  FutureWarning)\n"
     ]
    },
    {
     "name": "stdout",
     "output_type": "stream",
     "text": [
      "\t* adjusted_mutual_info_score score:  0.6775502585101932\n",
      "\t* adjusted_rand_score score:  0.6278825545830816\n",
      "\t* fowlkes_mallows_score score:  0.7106366579954777\n",
      "\t* homogeneity_score score:  0.9089922681799937\n",
      "\t* mutual_info_score score:  1.498575252792693\n",
      "\t* normalized_mutual_info_score score:  0.8402029950403515\n",
      "\t* v_measure_score score:  0.8375761413397314\n"
     ]
    },
    {
     "name": "stderr",
     "output_type": "stream",
     "text": [
      "c:\\users\\mwebster\\appdata\\local\\programs\\python\\python37-32\\lib\\site-packages\\sklearn\\metrics\\cluster\\supervised.py:859: FutureWarning: The behavior of NMI will change in version 0.22. To match the behavior of 'v_measure_score', NMI will use average_method='arithmetic' by default.\n",
      "  FutureWarning)\n",
      "c:\\users\\mwebster\\appdata\\local\\programs\\python\\python37-32\\lib\\site-packages\\sklearn\\metrics\\cluster\\supervised.py:859: FutureWarning: The behavior of NMI will change in version 0.22. To match the behavior of 'v_measure_score', NMI will use average_method='arithmetic' by default.\n",
      "  FutureWarning)\n",
      "c:\\users\\mwebster\\appdata\\local\\programs\\python\\python37-32\\lib\\site-packages\\sklearn\\metrics\\cluster\\supervised.py:859: FutureWarning: The behavior of NMI will change in version 0.22. To match the behavior of 'v_measure_score', NMI will use average_method='arithmetic' by default.\n",
      "  FutureWarning)\n"
     ]
    }
   ],
   "source": [
    "classifiers = [SVC(gamma='auto'), LinearSVC(), KMeans(random_state=0)]\n",
    "clf_names = ['SVC', 'LinearSVC', 'SVR']\n",
    "metric_names = ['accuracy', 'completeness_score', 'adjusted_mutual_info_score', 'adjusted_rand_score', 'fowlkes_mallows_score', 'homogeneity_score', 'mutual_info_score', 'normalized_mutual_info_score', 'v_measure_score']\n",
    "\n",
    "scv = StratifiedKFold(n_splits=3)\n",
    "\n",
    "scores_df = pd.DataFrame(index=metric_names,columns=clf_names)\n",
    "clf_scores = []\n",
    "for clf, name in zip(classifiers, clf_names):\n",
    "    print('-----------------------------------------------------------------------------------------------------------')\n",
    "    print('Classifier: ',clf)\n",
    "    print('')\n",
    "    print(\"Scoring Metrics: \")\n",
    "    for metric in metric_names:\n",
    "        score = cross_val_score(clf,X,y,scoring=metric, cv=scv).mean()\n",
    "        clf_scores.append(score)\n",
    "        print('\\t*',metric,'score: ', score)\n",
    "    scores_df[name] = clf_scores\n",
    "    clf_scores = []"
   ]
  },
  {
   "cell_type": "markdown",
   "metadata": {},
   "source": [
    "## Final Results"
   ]
  },
  {
   "cell_type": "markdown",
   "metadata": {},
   "source": [
    "For boolean classification with multivalue labels, the top performing machine learning algorithm is LinearSVC. This classifier works by analyzing a dataset with one or more independent variables that determine an set of possible outcomes - the outcome is measured with a list."
   ]
  },
  {
   "cell_type": "code",
   "execution_count": null,
   "metadata": {},
   "outputs": [],
   "source": []
  }
 ],
 "metadata": {
  "kernelspec": {
   "display_name": "Python 3",
   "language": "python",
   "name": "python3"
  },
  "language_info": {
   "codemirror_mode": {
    "name": "ipython",
    "version": 3
   },
   "file_extension": ".py",
   "mimetype": "text/x-python",
   "name": "python",
   "nbconvert_exporter": "python",
   "pygments_lexer": "ipython3",
   "version": "3.7.3"
  }
 },
 "nbformat": 4,
 "nbformat_minor": 2
}
